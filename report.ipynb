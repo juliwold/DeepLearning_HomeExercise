{
 "cells": [
  {
   "attachments": {},
   "cell_type": "markdown",
   "metadata": {},
   "source": [
    "# Home Exercise"
   ]
  },
  {
   "cell_type": "code",
   "execution_count": 1,
   "metadata": {},
   "outputs": [],
   "source": [
    "import os\n",
    "from glob import glob\n",
    "import itertools\n",
    "import json\n",
    "\n",
    "import pandas as pd"
   ]
  },
  {
   "attachments": {},
   "cell_type": "markdown",
   "metadata": {},
   "source": [
    "## Introduction\n",
    "\n",
    "### Objective\n",
    "\n",
    "Compare the effect of training a seedling detector on your own annotated dataset Vs full dataset (all annotations merged) on the detector’s performance."
   ]
  },
  {
   "attachments": {},
   "cell_type": "markdown",
   "metadata": {},
   "source": [
    "## Methods"
   ]
  },
  {
   "attachments": {},
   "cell_type": "markdown",
   "metadata": {},
   "source": [
    "### Annotations"
   ]
  },
  {
   "attachments": {},
   "cell_type": "markdown",
   "metadata": {},
   "source": [
    "Two sets of annotations were used for model training: *\"My annotations\"* and *\"All annotations\"*.\n",
    "\n",
    "- *\"My annotations\"*\n",
    "  - Annotations made by me.\n",
    "- *\"All annotations\"*\n",
    "  - Annotations from all students merged."
   ]
  },
  {
   "cell_type": "code",
   "execution_count": 49,
   "metadata": {},
   "outputs": [],
   "source": [
    "def number_of_images(anno_data_path):\n",
    "    n_train = len(glob(os.path.join(anno_data_path, \"train\", \"images\", \"*.tif\")))\n",
    "    n_val = len(glob(os.path.join(anno_data_path, \"val\", \"images\", \"*.tif\")))\n",
    "    n_images = {\"train\": n_train, \"val\": n_val, \"all\": n_train + n_val}\n",
    "\n",
    "    return n_images\n",
    "\n",
    "\n",
    "def number_of_boxes(anno_data_path):\n",
    "    labels_train = glob(os.path.join(anno_data_path, \"train\", \"labels\", \"*.txt\"))\n",
    "    n_train = sum(map(count_boxes, labels_train))\n",
    "    labels_val = glob(os.path.join(anno_data_path, \"val\", \"labels\", \"*.txt\"))\n",
    "    n_val = sum(map(count_boxes, labels_val))\n",
    "    n_boxes = {\"train\": n_train, \"val\": n_val, \"all\": n_train + n_val}\n",
    "\n",
    "    return n_boxes\n",
    "\n",
    "\n",
    "def count_boxes(label):\n",
    "    with open(label, \"r\") as f:\n",
    "        n_boxes = len(f.readlines())\n",
    "\n",
    "    return n_boxes\n",
    "\n",
    "\n",
    "def anno_summary(anno_data_path):\n",
    "    annotations_set = os.path.basename(anno_data_path).replace(\"_\", \" \").capitalize()\n",
    "    n_images = number_of_images(anno_data_path)\n",
    "    n_boxes = number_of_boxes(anno_data_path)\n",
    "    df_index = pd.MultiIndex.from_product([[\"Number of images\", \"Number of trees\"], [\"Train\", \"Val\", \"Sum\"]], names=[\"Count\", \"Split\"])\n",
    "    summary = pd.DataFrame({annotations_set: list(n_images.values()) + list(n_boxes.values())}, index=df_index)\n",
    "\n",
    "    return summary\n",
    "\n"
   ]
  },
  {
   "cell_type": "code",
   "execution_count": 50,
   "metadata": {},
   "outputs": [
    {
     "data": {
      "text/html": [
       "<div>\n",
       "<style scoped>\n",
       "    .dataframe tbody tr th:only-of-type {\n",
       "        vertical-align: middle;\n",
       "    }\n",
       "\n",
       "    .dataframe tbody tr th {\n",
       "        vertical-align: top;\n",
       "    }\n",
       "\n",
       "    .dataframe thead th {\n",
       "        text-align: right;\n",
       "    }\n",
       "</style>\n",
       "<table border=\"1\" class=\"dataframe\">\n",
       "  <thead>\n",
       "    <tr style=\"text-align: right;\">\n",
       "      <th></th>\n",
       "      <th></th>\n",
       "      <th>All annotations</th>\n",
       "      <th>My annotations</th>\n",
       "    </tr>\n",
       "    <tr>\n",
       "      <th>Count</th>\n",
       "      <th>Split</th>\n",
       "      <th></th>\n",
       "      <th></th>\n",
       "    </tr>\n",
       "  </thead>\n",
       "  <tbody>\n",
       "    <tr>\n",
       "      <th rowspan=\"3\" valign=\"top\">Number of images</th>\n",
       "      <th>Train</th>\n",
       "      <td>271</td>\n",
       "      <td>34</td>\n",
       "    </tr>\n",
       "    <tr>\n",
       "      <th>Val</th>\n",
       "      <td>116</td>\n",
       "      <td>14</td>\n",
       "    </tr>\n",
       "    <tr>\n",
       "      <th>Sum</th>\n",
       "      <td>387</td>\n",
       "      <td>48</td>\n",
       "    </tr>\n",
       "    <tr>\n",
       "      <th rowspan=\"3\" valign=\"top\">Number of trees</th>\n",
       "      <th>Train</th>\n",
       "      <td>3492</td>\n",
       "      <td>201</td>\n",
       "    </tr>\n",
       "    <tr>\n",
       "      <th>Val</th>\n",
       "      <td>1570</td>\n",
       "      <td>79</td>\n",
       "    </tr>\n",
       "    <tr>\n",
       "      <th>Sum</th>\n",
       "      <td>5062</td>\n",
       "      <td>280</td>\n",
       "    </tr>\n",
       "  </tbody>\n",
       "</table>\n",
       "</div>"
      ],
      "text/plain": [
       "                        All annotations  My annotations\n",
       "Count            Split                                 \n",
       "Number of images Train              271              34\n",
       "                 Val                116              14\n",
       "                 Sum                387              48\n",
       "Number of trees  Train             3492             201\n",
       "                 Val               1570              79\n",
       "                 Sum               5062             280"
      ]
     },
     "execution_count": 50,
     "metadata": {},
     "output_type": "execute_result"
    }
   ],
   "source": [
    "annotations = glob(os.path.join(\"data\", \"annotated_data\", \"train\", \"*\"))\n",
    "summaries = pd.concat(map(anno_summary, annotations), axis=1)\n",
    "summaries"
   ]
  },
  {
   "attachments": {},
   "cell_type": "markdown",
   "metadata": {},
   "source": [
    "### Model training"
   ]
  },
  {
   "attachments": {},
   "cell_type": "markdown",
   "metadata": {},
   "source": [
    "YOLO V8 models were trained using the data set *\"My annotations\"* and the data set *\"All annotations\"*. A grid search were performed for model sizes \"Nano\", \"Medium\", and \"Xtra large\" and image sizes 256, 640 and 1024. The best models for each data set were selected using mAP@.5."
   ]
  },
  {
   "cell_type": "code",
   "execution_count": 61,
   "metadata": {},
   "outputs": [
    {
     "data": {
      "text/html": [
       "<div>\n",
       "<style scoped>\n",
       "    .dataframe tbody tr th:only-of-type {\n",
       "        vertical-align: middle;\n",
       "    }\n",
       "\n",
       "    .dataframe tbody tr th {\n",
       "        vertical-align: top;\n",
       "    }\n",
       "\n",
       "    .dataframe thead th {\n",
       "        text-align: right;\n",
       "    }\n",
       "</style>\n",
       "<table border=\"1\" class=\"dataframe\">\n",
       "  <thead>\n",
       "    <tr style=\"text-align: right;\">\n",
       "      <th></th>\n",
       "      <th>Model</th>\n",
       "      <th>Image size</th>\n",
       "    </tr>\n",
       "  </thead>\n",
       "  <tbody>\n",
       "    <tr>\n",
       "      <th>0</th>\n",
       "      <td>yolov8n.pt</td>\n",
       "      <td>256</td>\n",
       "    </tr>\n",
       "    <tr>\n",
       "      <th>1</th>\n",
       "      <td>yolov8n.pt</td>\n",
       "      <td>640</td>\n",
       "    </tr>\n",
       "    <tr>\n",
       "      <th>2</th>\n",
       "      <td>yolov8n.pt</td>\n",
       "      <td>1024</td>\n",
       "    </tr>\n",
       "    <tr>\n",
       "      <th>3</th>\n",
       "      <td>yolov8m.pt</td>\n",
       "      <td>256</td>\n",
       "    </tr>\n",
       "    <tr>\n",
       "      <th>4</th>\n",
       "      <td>yolov8m.pt</td>\n",
       "      <td>640</td>\n",
       "    </tr>\n",
       "    <tr>\n",
       "      <th>5</th>\n",
       "      <td>yolov8m.pt</td>\n",
       "      <td>1024</td>\n",
       "    </tr>\n",
       "    <tr>\n",
       "      <th>6</th>\n",
       "      <td>yolov8x.pt</td>\n",
       "      <td>256</td>\n",
       "    </tr>\n",
       "    <tr>\n",
       "      <th>7</th>\n",
       "      <td>yolov8x.pt</td>\n",
       "      <td>640</td>\n",
       "    </tr>\n",
       "    <tr>\n",
       "      <th>8</th>\n",
       "      <td>yolov8x.pt</td>\n",
       "      <td>1024</td>\n",
       "    </tr>\n",
       "  </tbody>\n",
       "</table>\n",
       "</div>"
      ],
      "text/plain": [
       "        Model  Image size\n",
       "0  yolov8n.pt         256\n",
       "1  yolov8n.pt         640\n",
       "2  yolov8n.pt        1024\n",
       "3  yolov8m.pt         256\n",
       "4  yolov8m.pt         640\n",
       "5  yolov8m.pt        1024\n",
       "6  yolov8x.pt         256\n",
       "7  yolov8x.pt         640\n",
       "8  yolov8x.pt        1024"
      ]
     },
     "execution_count": 61,
     "metadata": {},
     "output_type": "execute_result"
    }
   ],
   "source": [
    "grid_search = pd.DataFrame(list(itertools.product([\"yolov8n.pt\", \"yolov8m.pt\", \"yolov8x.pt\"], [256, 640, 1024])), columns=[\"Model\", \"Image size\"])\n",
    "grid_search"
   ]
  },
  {
   "attachments": {},
   "cell_type": "markdown",
   "metadata": {},
   "source": [
    "### Model evaluation"
   ]
  },
  {
   "attachments": {},
   "cell_type": "markdown",
   "metadata": {},
   "source": [
    "Selected models from the model training were evaluated using machine-learning metrics and domain metrics.\n",
    "\n",
    "#### ML metrics\n",
    "\n",
    "#### Domain metrics\n",
    "\n",
    "RMSE, RMSE%, MD and MD% were calculated for each site and for all sites combined."
   ]
  },
  {
   "attachments": {},
   "cell_type": "markdown",
   "metadata": {},
   "source": [
    "## Results & Discussion"
   ]
  },
  {
   "attachments": {},
   "cell_type": "markdown",
   "metadata": {},
   "source": [
    "### Model training\n",
    "\n",
    "Detailed view of trained models can be found in [this Comet project](<https://www.comet.com/juliwold/home-exercise-sapling-detector/view/uxR2erf0uJlERPXPjybwdN2yE/panels>).\n",
    "\n",
    "#### My annotations\n",
    "\n",
    "![](<figures\\\\metrics_mAP50_my.jpeg>)\n",
    "\n",
    "*Figure 1. My annotations - mAP@.5*\n",
    "\n",
    "The best performing model for \"My annotations\" were a YOLOn models with an\n",
    "image size of 256. This image size seems far too low for use in detecting\n",
    "saplings, the next best performing model (YOLOn, image size = 640) were\n",
    "therefore also selected.\n",
    "\n",
    "#### All annotations\n",
    "\n",
    "![](<figures\\\\metrics_mAP50_all.jpeg>)\n",
    "\n",
    "*Figure 2. All annotations - mAP@.5*\n",
    "\n"
   ]
  },
  {
   "attachments": {},
   "cell_type": "markdown",
   "metadata": {},
   "source": [
    "### Effect of hyperparamaters\n",
    "\n",
    "#### Detectors performance\n",
    "\n",
    "- Larger models improved faster in the beginning of training.\n",
    "  - YOLOm and YOLOx models improved faster than YOLOn.\n",
    "- Larger model sizes seems more vulnerable for overfit.\n",
    "\n",
    "\n",
    "#### Inferrence speed\n",
    "\n",
    "- Inferrence speed decreases with model size and image size.\n",
    "- The effect of image size increased with model size.\n",
    "\n",
    "![](<figures\\\\model_speed.jpeg>)\n",
    "\n",
    "*Figure 3. Model speed.*"
   ]
  },
  {
   "attachments": {},
   "cell_type": "markdown",
   "metadata": {},
   "source": [
    "### Evaluation of models"
   ]
  },
  {
   "cell_type": "code",
   "execution_count": null,
   "metadata": {},
   "outputs": [],
   "source": [
    "models = [\n",
    "    \"models\\\\all_annotations\\\\all_annotations_yolov8m.pt_640\",\n",
    "    \"models\\\\my_annotations\\\\my_annotations_yolov8n.pt_256\",\n",
    "    \"models\\\\my_annotations\\\\my_annotations_yolov8n.pt_640\",\n",
    "]"
   ]
  },
  {
   "attachments": {},
   "cell_type": "markdown",
   "metadata": {},
   "source": [
    "#### ML metrics"
   ]
  },
  {
   "cell_type": "code",
   "execution_count": 21,
   "metadata": {},
   "outputs": [],
   "source": [
    "def collect_ml_metrics(model_path):\n",
    "    with open(os.path.join(model_path, \"val\", \"test_results.json\"), \"r\") as f:\n",
    "        ml_metrics = json.load(f)\n",
    "    metrics_table = pd.DataFrame(ml_metrics, index=[os.path.basename(model_path)])\n",
    "\n",
    "    return(metrics_table)"
   ]
  },
  {
   "cell_type": "code",
   "execution_count": 32,
   "metadata": {},
   "outputs": [
    {
     "data": {
      "text/html": [
       "<div>\n",
       "<style scoped>\n",
       "    .dataframe tbody tr th:only-of-type {\n",
       "        vertical-align: middle;\n",
       "    }\n",
       "\n",
       "    .dataframe tbody tr th {\n",
       "        vertical-align: top;\n",
       "    }\n",
       "\n",
       "    .dataframe thead th {\n",
       "        text-align: right;\n",
       "    }\n",
       "</style>\n",
       "<table border=\"1\" class=\"dataframe\">\n",
       "  <thead>\n",
       "    <tr style=\"text-align: right;\">\n",
       "      <th></th>\n",
       "      <th>metrics/precision(B)</th>\n",
       "      <th>metrics/recall(B)</th>\n",
       "      <th>metrics/mAP50(B)</th>\n",
       "      <th>metrics/mAP50-95(B)</th>\n",
       "      <th>fitness</th>\n",
       "    </tr>\n",
       "  </thead>\n",
       "  <tbody>\n",
       "    <tr>\n",
       "      <th>all_annotations_yolov8m.pt_640</th>\n",
       "      <td>0.56</td>\n",
       "      <td>0.45</td>\n",
       "      <td>0.38</td>\n",
       "      <td>0.12</td>\n",
       "      <td>0.14</td>\n",
       "    </tr>\n",
       "    <tr>\n",
       "      <th>my_annotations_yolov8n.pt_256</th>\n",
       "      <td>0.48</td>\n",
       "      <td>0.33</td>\n",
       "      <td>0.28</td>\n",
       "      <td>0.08</td>\n",
       "      <td>0.10</td>\n",
       "    </tr>\n",
       "    <tr>\n",
       "      <th>my_annotations_yolov8n.pt_640</th>\n",
       "      <td>0.49</td>\n",
       "      <td>0.42</td>\n",
       "      <td>0.36</td>\n",
       "      <td>0.11</td>\n",
       "      <td>0.14</td>\n",
       "    </tr>\n",
       "  </tbody>\n",
       "</table>\n",
       "</div>"
      ],
      "text/plain": [
       "                                metrics/precision(B)  metrics/recall(B)  \\\n",
       "all_annotations_yolov8m.pt_640                  0.56               0.45   \n",
       "my_annotations_yolov8n.pt_256                   0.48               0.33   \n",
       "my_annotations_yolov8n.pt_640                   0.49               0.42   \n",
       "\n",
       "                                metrics/mAP50(B)  metrics/mAP50-95(B)  fitness  \n",
       "all_annotations_yolov8m.pt_640              0.38                 0.12     0.14  \n",
       "my_annotations_yolov8n.pt_256               0.28                 0.08     0.10  \n",
       "my_annotations_yolov8n.pt_640               0.36                 0.11     0.14  "
      ]
     },
     "execution_count": 32,
     "metadata": {},
     "output_type": "execute_result"
    }
   ],
   "source": [
    "ml_metrics = pd.concat(map(collect_ml_metrics, models)).round(decimals=2)\n",
    "ml_metrics"
   ]
  },
  {
   "attachments": {},
   "cell_type": "markdown",
   "metadata": {},
   "source": [
    "#### Domain"
   ]
  },
  {
   "cell_type": "code",
   "execution_count": 53,
   "metadata": {},
   "outputs": [],
   "source": [
    "def collect_domain_metrics(model_path):\n",
    "    metrics = pd.read_csv(os.path.join(model_path, \"predictions_processed\", \"metrics.csv\"))\n",
    "    metrics[\"Model\"] = os.path.basename(model_path)\n",
    "    return(metrics)"
   ]
  },
  {
   "cell_type": "code",
   "execution_count": 81,
   "metadata": {},
   "outputs": [],
   "source": [
    "dm_all = pd.concat(map(collect_domain_metrics, models))"
   ]
  },
  {
   "cell_type": "code",
   "execution_count": 80,
   "metadata": {},
   "outputs": [
    {
     "data": {
      "text/html": [
       "<div>\n",
       "<style scoped>\n",
       "    .dataframe tbody tr th:only-of-type {\n",
       "        vertical-align: middle;\n",
       "    }\n",
       "\n",
       "    .dataframe tbody tr th {\n",
       "        vertical-align: top;\n",
       "    }\n",
       "\n",
       "    .dataframe thead th {\n",
       "        text-align: right;\n",
       "    }\n",
       "</style>\n",
       "<table border=\"1\" class=\"dataframe\">\n",
       "  <thead>\n",
       "    <tr style=\"text-align: right;\">\n",
       "      <th></th>\n",
       "      <th></th>\n",
       "      <th>RMSE</th>\n",
       "      <th>RMSE (%)</th>\n",
       "      <th>MD</th>\n",
       "      <th>MD (%)</th>\n",
       "    </tr>\n",
       "    <tr>\n",
       "      <th>Model</th>\n",
       "      <th>aoi_name</th>\n",
       "      <th></th>\n",
       "      <th></th>\n",
       "      <th></th>\n",
       "      <th></th>\n",
       "    </tr>\n",
       "  </thead>\n",
       "  <tbody>\n",
       "    <tr>\n",
       "      <th rowspan=\"5\" valign=\"top\">all_annotations_yolov8m.pt_640</th>\n",
       "      <th>braatan</th>\n",
       "      <td>981.0</td>\n",
       "      <td>67.0</td>\n",
       "      <td>891.0</td>\n",
       "      <td>61.0</td>\n",
       "    </tr>\n",
       "    <tr>\n",
       "      <th>galbyveien</th>\n",
       "      <td>692.0</td>\n",
       "      <td>34.0</td>\n",
       "      <td>662.0</td>\n",
       "      <td>33.0</td>\n",
       "    </tr>\n",
       "    <tr>\n",
       "      <th>hobol</th>\n",
       "      <td>99.0</td>\n",
       "      <td>9.0</td>\n",
       "      <td>90.0</td>\n",
       "      <td>8.0</td>\n",
       "    </tr>\n",
       "    <tr>\n",
       "      <th>krakstad</th>\n",
       "      <td>386.0</td>\n",
       "      <td>29.0</td>\n",
       "      <td>353.0</td>\n",
       "      <td>27.0</td>\n",
       "    </tr>\n",
       "    <tr>\n",
       "      <th>all</th>\n",
       "      <td>632.0</td>\n",
       "      <td>43.0</td>\n",
       "      <td>499.0</td>\n",
       "      <td>34.0</td>\n",
       "    </tr>\n",
       "    <tr>\n",
       "      <th rowspan=\"5\" valign=\"top\">my_annotations_yolov8n.pt_256</th>\n",
       "      <th>braatan</th>\n",
       "      <td>1363.0</td>\n",
       "      <td>93.0</td>\n",
       "      <td>1307.0</td>\n",
       "      <td>89.0</td>\n",
       "    </tr>\n",
       "    <tr>\n",
       "      <th>galbyveien</th>\n",
       "      <td>1360.0</td>\n",
       "      <td>67.0</td>\n",
       "      <td>1331.0</td>\n",
       "      <td>66.0</td>\n",
       "    </tr>\n",
       "    <tr>\n",
       "      <th>hobol</th>\n",
       "      <td>471.0</td>\n",
       "      <td>43.0</td>\n",
       "      <td>465.0</td>\n",
       "      <td>43.0</td>\n",
       "    </tr>\n",
       "    <tr>\n",
       "      <th>krakstad</th>\n",
       "      <td>691.0</td>\n",
       "      <td>52.0</td>\n",
       "      <td>684.0</td>\n",
       "      <td>52.0</td>\n",
       "    </tr>\n",
       "    <tr>\n",
       "      <th>all</th>\n",
       "      <td>1049.0</td>\n",
       "      <td>71.0</td>\n",
       "      <td>947.0</td>\n",
       "      <td>64.0</td>\n",
       "    </tr>\n",
       "    <tr>\n",
       "      <th rowspan=\"5\" valign=\"top\">my_annotations_yolov8n.pt_640</th>\n",
       "      <th>braatan</th>\n",
       "      <td>1436.0</td>\n",
       "      <td>98.0</td>\n",
       "      <td>1368.0</td>\n",
       "      <td>94.0</td>\n",
       "    </tr>\n",
       "    <tr>\n",
       "      <th>galbyveien</th>\n",
       "      <td>1613.0</td>\n",
       "      <td>80.0</td>\n",
       "      <td>1574.0</td>\n",
       "      <td>78.0</td>\n",
       "    </tr>\n",
       "    <tr>\n",
       "      <th>hobol</th>\n",
       "      <td>761.0</td>\n",
       "      <td>70.0</td>\n",
       "      <td>759.0</td>\n",
       "      <td>70.0</td>\n",
       "    </tr>\n",
       "    <tr>\n",
       "      <th>krakstad</th>\n",
       "      <td>1063.0</td>\n",
       "      <td>81.0</td>\n",
       "      <td>1054.0</td>\n",
       "      <td>80.0</td>\n",
       "    </tr>\n",
       "    <tr>\n",
       "      <th>all</th>\n",
       "      <td>1262.0</td>\n",
       "      <td>86.0</td>\n",
       "      <td>1188.0</td>\n",
       "      <td>81.0</td>\n",
       "    </tr>\n",
       "  </tbody>\n",
       "</table>\n",
       "</div>"
      ],
      "text/plain": [
       "                                             RMSE  RMSE (%)      MD  MD (%)\n",
       "Model                          aoi_name                                    \n",
       "all_annotations_yolov8m.pt_640 braatan      981.0      67.0   891.0    61.0\n",
       "                               galbyveien   692.0      34.0   662.0    33.0\n",
       "                               hobol         99.0       9.0    90.0     8.0\n",
       "                               krakstad     386.0      29.0   353.0    27.0\n",
       "                               all          632.0      43.0   499.0    34.0\n",
       "my_annotations_yolov8n.pt_256  braatan     1363.0      93.0  1307.0    89.0\n",
       "                               galbyveien  1360.0      67.0  1331.0    66.0\n",
       "                               hobol        471.0      43.0   465.0    43.0\n",
       "                               krakstad     691.0      52.0   684.0    52.0\n",
       "                               all         1049.0      71.0   947.0    64.0\n",
       "my_annotations_yolov8n.pt_640  braatan     1436.0      98.0  1368.0    94.0\n",
       "                               galbyveien  1613.0      80.0  1574.0    78.0\n",
       "                               hobol        761.0      70.0   759.0    70.0\n",
       "                               krakstad    1063.0      81.0  1054.0    80.0\n",
       "                               all         1262.0      86.0  1188.0    81.0"
      ]
     },
     "execution_count": 80,
     "metadata": {},
     "output_type": "execute_result"
    }
   ],
   "source": [
    "domain_metrics = dm_all.set_index(mi).round()\n",
    "domain_metrics = domain_metrics.drop([\"aoi_name\", \"Model\", \"rmse_n\", \"rmse_n (%)\",\"bias_n\", \"bias_n (%)\",], axis = 1)\n",
    "domain_metrics = domain_metrics.rename(columns={\"rmse_dens\": \"RMSE\", \"rmse_dens (%)\": \"RMSE (%)\", \"bias_dens\": \"MD\", \"bias_dens (%)\": \"MD (%)\"})\n",
    "domain_metrics"
   ]
  },
  {
   "attachments": {},
   "cell_type": "markdown",
   "metadata": {},
   "source": [
    "### Effect of Training data\n",
    "\n",
    "*Is the model trained on more data better than the one trained on your own dataset?*"
   ]
  },
  {
   "attachments": {},
   "cell_type": "markdown",
   "metadata": {},
   "source": [
    "### Examples of poor performance"
   ]
  }
 ],
 "metadata": {
  "kernelspec": {
   "display_name": "deep_learning",
   "language": "python",
   "name": "python3"
  },
  "language_info": {
   "codemirror_mode": {
    "name": "ipython",
    "version": 3
   },
   "file_extension": ".py",
   "mimetype": "text/x-python",
   "name": "python",
   "nbconvert_exporter": "python",
   "pygments_lexer": "ipython3",
   "version": "3.11.3"
  },
  "orig_nbformat": 4
 },
 "nbformat": 4,
 "nbformat_minor": 2
}
