{
 "cells": [
  {
   "cell_type": "code",
   "execution_count": 1,
   "metadata": {},
   "outputs": [],
   "source": [
    "import os\n",
    "import yaml\n",
    "\n",
    "import pandas as pd\n",
    "from itertools import product\n",
    "import comet_ml"
   ]
  },
  {
   "cell_type": "code",
   "execution_count": null,
   "metadata": {},
   "outputs": [],
   "source": [
    "comet_ml.init(project_name='seedling_detection_YOLOv8')"
   ]
  },
  {
   "cell_type": "code",
   "execution_count": null,
   "metadata": {},
   "outputs": [],
   "source": [
    "import ultralytics"
   ]
  },
  {
   "cell_type": "code",
   "execution_count": 2,
   "metadata": {},
   "outputs": [
    {
     "name": "stderr",
     "output_type": "stream",
     "text": [
      "Ultralytics YOLOv8.0.112  Python-3.11.3 torch-2.0.1+cpu CPU\n",
      "Setup complete  (8 CPUs, 15.7 GB RAM, 403.9/476.0 GB disk)\n"
     ]
    }
   ],
   "source": [
    "ultralytics.checks()"
   ]
  },
  {
   "cell_type": "code",
   "execution_count": 3,
   "metadata": {},
   "outputs": [],
   "source": [
    "path_to_annotated = \"..\\\\data\\\\annotated_data\\\\train\"\n",
    "annotations = (\"my_annotations\", \"all_annotations\")"
   ]
  },
  {
   "attachments": {},
   "cell_type": "markdown",
   "metadata": {},
   "source": [
    "Create data configs for both annotation sets."
   ]
  },
  {
   "cell_type": "code",
   "execution_count": 5,
   "metadata": {},
   "outputs": [],
   "source": [
    "data_configs = []\n",
    "for a in annotations:\n",
    "    path_to_tiles = f\"{path_to_annotated}\\\\{a}\"\n",
    "    config_data = {\n",
    "        'path': os.path.abspath(path_to_tiles),\n",
    "        'train': os.path.abspath(f\"{path_to_tiles}\\\\train\\\\images\"),\n",
    "        'val': os.path.abspath(f\"{path_to_tiles}\\\\val\\\\images\"),\n",
    "        'test':os.path.abspath(\"..\\\\data\\\\annotated_data\\\\test\\\\images\"), # this is by default\n",
    "        'names': {\n",
    "            0: 'tree'\n",
    "        }\n",
    "    }\n",
    "    config = f\"{path_to_tiles}\\\\train_config.yaml\"\n",
    "    data_configs.append(config)\n",
    "    with open(config, \"w\") as file:\n",
    "        yaml.dump(config_data, file)"
   ]
  },
  {
   "cell_type": "code",
   "execution_count": 23,
   "metadata": {},
   "outputs": [
    {
     "data": {
      "text/plain": [
       "['..\\\\data\\\\annotated_data\\\\train\\\\my_annotations\\\\train_config.yaml',\n",
       " '..\\\\data\\\\annotated_data\\\\train\\\\all_annotations\\\\train_config.yaml']"
      ]
     },
     "execution_count": 23,
     "metadata": {},
     "output_type": "execute_result"
    }
   ],
   "source": [
    "data_configs"
   ]
  },
  {
   "cell_type": "code",
   "execution_count": 55,
   "metadata": {},
   "outputs": [],
   "source": [
    "hyperamaters = {\n",
    "    \"data\": data_configs,\n",
    "    \"model\": [\"yolov8n.pt\", \"yolov8s.pt\", \"yolov8m.pt\", \"yolov8l.pt\", \"yolov8x.pt\"],\n",
    "    \"img_size\": [250, 500, 1000, 2000],\n",
    "}\n",
    "model_settings = pd.DataFrame(\n",
    "    [row for row in product(*hyperamaters.values())],\n",
    "    columns=hyperamaters.keys()\n",
    ")\n",
    "\n",
    "model_settings[\"annotations\"] = model_settings[\"data\"].str.extract(\"(my_annotations|all_annotations)\")\n",
    "model_settings[\"project\"] =  \"models\\\\\" + model_settings[\"annotations\"]\n",
    "model_settings[\"name\"] = (\n",
    "    model_settings[\"annotations\"] + \"_\" +\n",
    "    model_settings[\"model\"] + \"_\" +\n",
    "    model_settings[\"img_size\"].astype(str)\n",
    ")"
   ]
  },
  {
   "cell_type": "code",
   "execution_count": 22,
   "metadata": {},
   "outputs": [
    {
     "name": "stderr",
     "output_type": "stream",
     "text": [
      "Ultralytics YOLOv8.0.112  Python-3.11.3 torch-2.0.1+cpu CPU\n",
      "\u001b[34m\u001b[1myolo\\engine\\trainer: \u001b[0mtask=detect, mode=train, model=yolov8n.pt, data=..\\data\\annotated_data\\train\\my_annotations\\train_config.yaml, epochs=3, patience=50, batch=16, imgsz=250, save=True, save_period=-1, cache=False, device=None, workers=8, project=.test_runs, name=test_run, exist_ok=False, pretrained=False, optimizer=SGD, verbose=True, seed=0, deterministic=True, single_cls=False, rect=False, cos_lr=False, close_mosaic=0, resume=False, amp=True, fraction=1.0, profile=False, overlap_mask=True, mask_ratio=4, dropout=0.0, val=True, split=val, save_json=False, save_hybrid=False, conf=None, iou=0.7, max_det=300, half=False, dnn=False, plots=True, source=None, show=False, save_txt=False, save_conf=False, save_crop=False, show_labels=True, show_conf=True, vid_stride=1, line_width=None, visualize=False, augment=False, agnostic_nms=False, classes=None, retina_masks=False, boxes=True, format=torchscript, keras=False, optimize=False, int8=False, dynamic=False, simplify=False, opset=None, workspace=4, nms=False, lr0=0.01, lrf=0.01, momentum=0.937, weight_decay=0.0005, warmup_epochs=3.0, warmup_momentum=0.8, warmup_bias_lr=0.1, box=7.5, cls=0.5, dfl=1.5, pose=12.0, kobj=1.0, label_smoothing=0.0, nbs=64, hsv_h=0.015, hsv_s=0.7, hsv_v=0.4, degrees=0.0, translate=0.1, scale=0.5, shear=0.0, perspective=0.0, flipud=0.0, fliplr=0.5, mosaic=1.0, mixup=0.0, copy_paste=0.0, cfg=None, v5loader=False, tracker=botsort.yaml, save_dir=.test_runs\\test_run2\n",
      "Overriding model.yaml nc=80 with nc=1\n",
      "\n",
      "                   from  n    params  module                                       arguments                     \n",
      "  0                  -1  1       464  ultralytics.nn.modules.conv.Conv             [3, 16, 3, 2]                 \n",
      "  1                  -1  1      4672  ultralytics.nn.modules.conv.Conv             [16, 32, 3, 2]                \n",
      "  2                  -1  1      7360  ultralytics.nn.modules.block.C2f             [32, 32, 1, True]             \n",
      "  3                  -1  1     18560  ultralytics.nn.modules.conv.Conv             [32, 64, 3, 2]                \n",
      "  4                  -1  2     49664  ultralytics.nn.modules.block.C2f             [64, 64, 2, True]             \n",
      "  5                  -1  1     73984  ultralytics.nn.modules.conv.Conv             [64, 128, 3, 2]               \n",
      "  6                  -1  2    197632  ultralytics.nn.modules.block.C2f             [128, 128, 2, True]           \n",
      "  7                  -1  1    295424  ultralytics.nn.modules.conv.Conv             [128, 256, 3, 2]              \n",
      "  8                  -1  1    460288  ultralytics.nn.modules.block.C2f             [256, 256, 1, True]           \n",
      "  9                  -1  1    164608  ultralytics.nn.modules.block.SPPF            [256, 256, 5]                 \n",
      " 10                  -1  1         0  torch.nn.modules.upsampling.Upsample         [None, 2, 'nearest']          \n",
      " 11             [-1, 6]  1         0  ultralytics.nn.modules.conv.Concat           [1]                           \n",
      " 12                  -1  1    148224  ultralytics.nn.modules.block.C2f             [384, 128, 1]                 \n",
      " 13                  -1  1         0  torch.nn.modules.upsampling.Upsample         [None, 2, 'nearest']          \n",
      " 14             [-1, 4]  1         0  ultralytics.nn.modules.conv.Concat           [1]                           \n",
      " 15                  -1  1     37248  ultralytics.nn.modules.block.C2f             [192, 64, 1]                  \n",
      " 16                  -1  1     36992  ultralytics.nn.modules.conv.Conv             [64, 64, 3, 2]                \n",
      " 17            [-1, 12]  1         0  ultralytics.nn.modules.conv.Concat           [1]                           \n",
      " 18                  -1  1    123648  ultralytics.nn.modules.block.C2f             [192, 128, 1]                 \n",
      " 19                  -1  1    147712  ultralytics.nn.modules.conv.Conv             [128, 128, 3, 2]              \n",
      " 20             [-1, 9]  1         0  ultralytics.nn.modules.conv.Concat           [1]                           \n",
      " 21                  -1  1    493056  ultralytics.nn.modules.block.C2f             [384, 256, 1]                 \n",
      " 22        [15, 18, 21]  1    751507  ultralytics.nn.modules.head.Detect           [1, [64, 128, 256]]           \n",
      "Model summary: 225 layers, 3011043 parameters, 3011027 gradients\n",
      "\n",
      "Transferred 319/355 items from pretrained weights\n",
      "WARNING  imgsz=[250] must be multiple of max stride 32, updating to [256]\n",
      "\u001b[34m\u001b[1moptimizer:\u001b[0m SGD(lr=0.01) with parameter groups 57 weight(decay=0.0), 64 weight(decay=0.0005), 63 bias\n",
      "\u001b[34m\u001b[1mtrain: \u001b[0mScanning C:\\Users\\juliwold\\OneDrive - Norwegian University of Life Sciences\\Documents\\projects\\DeepLearning_HomeExercise\\data\\annotated_data\\train\\my_annotations\\train\\labels.cache... 34 images, 0 backgrounds, 0 corrupt: 100%|██████████| 34/34 [00:00<?, ?it/s]\n",
      "\u001b[34m\u001b[1mval: \u001b[0mScanning C:\\Users\\juliwold\\OneDrive - Norwegian University of Life Sciences\\Documents\\projects\\DeepLearning_HomeExercise\\data\\annotated_data\\train\\my_annotations\\val\\labels.cache... 14 images, 0 backgrounds, 0 corrupt: 100%|██████████| 14/14 [00:00<?, ?it/s]\n",
      "Plotting labels to .test_runs\\test_run2\\labels.jpg... \n",
      "Image sizes 256 train, 256 val\n",
      "Using 0 dataloader workers\n",
      "Logging results to \u001b[1m.test_runs\\test_run2\u001b[0m\n",
      "Starting training for 3 epochs...\n",
      "\n",
      "      Epoch    GPU_mem   box_loss   cls_loss   dfl_loss  Instances       Size\n",
      "        1/3         0G      3.689       3.84      1.998         19        256: 100%|██████████| 3/3 [00:07<00:00,  2.41s/it]\n",
      "                 Class     Images  Instances      Box(P          R      mAP50  mAP50-95): 100%|██████████| 1/1 [00:02<00:00,  2.10s/it]\n",
      "                   all         14         79    0.00328      0.101    0.00259   0.000754\n",
      "\n",
      "      Epoch    GPU_mem   box_loss   cls_loss   dfl_loss  Instances       Size\n",
      "        2/3         0G       3.68      3.946      2.015         16        256: 100%|██████████| 3/3 [00:05<00:00,  1.95s/it]\n",
      "                 Class     Images  Instances      Box(P          R      mAP50  mAP50-95): 100%|██████████| 1/1 [00:01<00:00,  1.70s/it]\n",
      "                   all         14         79    0.00285     0.0886    0.00211   0.000552\n",
      "\n",
      "      Epoch    GPU_mem   box_loss   cls_loss   dfl_loss  Instances       Size\n",
      "        3/3         0G      3.306      3.943      1.884         16        256: 100%|██████████| 3/3 [00:06<00:00,  2.02s/it]\n",
      "                 Class     Images  Instances      Box(P          R      mAP50  mAP50-95): 100%|██████████| 1/1 [00:02<00:00,  2.36s/it]\n",
      "                   all         14         79    0.00195     0.0633    0.00144   0.000443\n",
      "\n",
      "3 epochs completed in 0.008 hours.\n",
      "Optimizer stripped from .test_runs\\test_run2\\weights\\last.pt, 6.2MB\n",
      "Optimizer stripped from .test_runs\\test_run2\\weights\\best.pt, 6.2MB\n",
      "\n",
      "Validating .test_runs\\test_run2\\weights\\best.pt...\n",
      "Ultralytics YOLOv8.0.112  Python-3.11.3 torch-2.0.1+cpu CPU\n",
      "Model summary (fused): 168 layers, 3005843 parameters, 0 gradients\n",
      "                 Class     Images  Instances      Box(P          R      mAP50  mAP50-95): 100%|██████████| 1/1 [00:02<00:00,  2.29s/it]\n",
      "                   all         14         79    0.00288     0.0886    0.00237   0.000734\n",
      "Speed: 0.8ms preprocess, 73.0ms inference, 0.0ms loss, 1.9ms postprocess per image\n",
      "Results saved to \u001b[1m.test_runs\\test_run2\u001b[0m\n"
     ]
    }
   ],
   "source": [
    "# Test run\n",
    "hyperamater_settings = model_settings.iloc[0, :]\n",
    "\n",
    "model = ultralytics.YOLO(hyperamater_settings[\"model\"])\n",
    "\n",
    "model.train(\n",
    "    data = hyperamater_settings[\"data\"],\n",
    "    epochs = 3,\n",
    "    imgsz = int(hyperamater_settings[\"img_size\"]),\n",
    "    name = \"test_run\",\n",
    "    project = \".test_runs\"\n",
    ")"
   ]
  },
  {
   "cell_type": "code",
   "execution_count": null,
   "metadata": {},
   "outputs": [],
   "source": [
    "for i, settings in model_settings.iterrows():\n",
    "    model = ultralytics.YOLO(settings[\"model\"])\n",
    "    model.train(\n",
    "        data = settings[\"data\"],\n",
    "        epochs = 350,\n",
    "        imgsz = int(settings[\"img_size\"]),\n",
    "        name = settings[\"name\"],\n",
    "        project = settings[\"project\"]\n",
    "    )\n",
    "\n",
    "model.train(\n",
    "    data = hyperamater_settings[\"data\"],\n",
    "    epochs = 3,\n",
    "    imgsz = int(hyperamater_settings[\"img_size\"]),\n",
    "    name = \"test_run\",\n",
    "    project = \".test_runs\"\n",
    ")"
   ]
  }
 ],
 "metadata": {
  "kernelspec": {
   "display_name": "deep_learning",
   "language": "python",
   "name": "python3"
  },
  "language_info": {
   "codemirror_mode": {
    "name": "ipython",
    "version": 3
   },
   "file_extension": ".py",
   "mimetype": "text/x-python",
   "name": "python",
   "nbconvert_exporter": "python",
   "pygments_lexer": "ipython3",
   "version": "3.11.3"
  },
  "orig_nbformat": 4
 },
 "nbformat": 4,
 "nbformat_minor": 2
}
