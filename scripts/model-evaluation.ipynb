{
 "cells": [
  {
   "cell_type": "code",
   "execution_count": 1,
   "metadata": {},
   "outputs": [],
   "source": [
    "import os\n",
    "import glob\n",
    "from pathlib import Path\n",
    "\n",
    "import geopandas as gpd\n",
    "import numpy as np\n",
    "from osgeo import gdal, osr\n",
    "from shapely.geometry import Polygon\n",
    "from ultralytics import YOLO"
   ]
  },
  {
   "cell_type": "code",
   "execution_count": 23,
   "metadata": {},
   "outputs": [],
   "source": [
    "path_to_model = \"..\\\\models\\\\my_annotations\\\\my_annotations_yolov8m.pt_640\\\\weights\\\\best.pt\"\n",
    "\n",
    "train_config = \"..\\\\data\\\\annotated_data\\\\train\\\\my_annotations\\\\train_config.yaml\"\n",
    "project = \"..\\\\models\\\\my_annotations\\\\my_annotations_yolov8m.pt_640\\\\test\""
   ]
  },
  {
   "cell_type": "code",
   "execution_count": 12,
   "metadata": {},
   "outputs": [
    {
     "data": {
      "text/plain": [
       "<ultralytics.yolo.engine.model.YOLO at 0x11a3f271790>"
      ]
     },
     "execution_count": 12,
     "metadata": {},
     "output_type": "execute_result"
    }
   ],
   "source": [
    "model = YOLO(path_to_model)\n",
    "model"
   ]
  },
  {
   "cell_type": "code",
   "execution_count": 25,
   "metadata": {},
   "outputs": [
    {
     "name": "stderr",
     "output_type": "stream",
     "text": [
      "Ultralytics YOLOv8.0.112  Python-3.11.3 torch-2.0.1+cpu CPU\n",
      "\u001b[34m\u001b[1mval: \u001b[0mScanning C:\\Users\\juliwold\\OneDrive - Norwegian University of Life Sciences\\Documents\\projects\\DeepLearning_HomeExercise\\data\\annotated_data\\test\\labels.cache... 228 images, 0 backgrounds, 31 corrupt: 100%|██████████| 228/228 [00:00<?, ?it/s]\n",
      "\u001b[34m\u001b[1mval: \u001b[0mWARNING  C:\\Users\\juliwold\\OneDrive - Norwegian University of Life Sciences\\Documents\\projects\\DeepLearning_HomeExercise\\data\\annotated_data\\test\\images\\galbyveien_20230504_sun_11_23.tif: ignoring corrupt image/label: non-normalized or out of bounds coordinates [     1.0109]\n",
      "\u001b[34m\u001b[1mval: \u001b[0mWARNING  C:\\Users\\juliwold\\OneDrive - Norwegian University of Life Sciences\\Documents\\projects\\DeepLearning_HomeExercise\\data\\annotated_data\\test\\images\\galbyveien_20230504_sun_11_24.tif: ignoring corrupt image/label: non-normalized or out of bounds coordinates [     1.0079]\n",
      "\u001b[34m\u001b[1mval: \u001b[0mWARNING  C:\\Users\\juliwold\\OneDrive - Norwegian University of Life Sciences\\Documents\\projects\\DeepLearning_HomeExercise\\data\\annotated_data\\test\\images\\galbyveien_20230504_sun_12_21.tif: ignoring corrupt image/label: non-normalized or out of bounds coordinates [     1.0065]\n",
      "\u001b[34m\u001b[1mval: \u001b[0mWARNING  C:\\Users\\juliwold\\OneDrive - Norwegian University of Life Sciences\\Documents\\projects\\DeepLearning_HomeExercise\\data\\annotated_data\\test\\images\\galbyveien_20230504_sun_12_22.tif: ignoring corrupt image/label: non-normalized or out of bounds coordinates [     1.0076]\n",
      "\u001b[34m\u001b[1mval: \u001b[0mWARNING  C:\\Users\\juliwold\\OneDrive - Norwegian University of Life Sciences\\Documents\\projects\\DeepLearning_HomeExercise\\data\\annotated_data\\test\\images\\galbyveien_20230504_sun_12_24.tif: ignoring corrupt image/label: non-normalized or out of bounds coordinates [     1.0108      1.0097]\n",
      "\u001b[34m\u001b[1mval: \u001b[0mWARNING  C:\\Users\\juliwold\\OneDrive - Norwegian University of Life Sciences\\Documents\\projects\\DeepLearning_HomeExercise\\data\\annotated_data\\test\\images\\galbyveien_20230504_sun_13_22.tif: ignoring corrupt image/label: non-normalized or out of bounds coordinates [     1.0026]\n",
      "\u001b[34m\u001b[1mval: \u001b[0mWARNING  C:\\Users\\juliwold\\OneDrive - Norwegian University of Life Sciences\\Documents\\projects\\DeepLearning_HomeExercise\\data\\annotated_data\\test\\images\\galbyveien_20230504_sun_13_23.tif: ignoring corrupt image/label: non-normalized or out of bounds coordinates [     1.0135]\n",
      "\u001b[34m\u001b[1mval: \u001b[0mWARNING  C:\\Users\\juliwold\\OneDrive - Norwegian University of Life Sciences\\Documents\\projects\\DeepLearning_HomeExercise\\data\\annotated_data\\test\\images\\galbyveien_20230504_sun_14_22.tif: ignoring corrupt image/label: non-normalized or out of bounds coordinates [     1.0188]\n",
      "\u001b[34m\u001b[1mval: \u001b[0mWARNING  C:\\Users\\juliwold\\OneDrive - Norwegian University of Life Sciences\\Documents\\projects\\DeepLearning_HomeExercise\\data\\annotated_data\\test\\images\\galbyveien_20230504_sun_15_21.tif: ignoring corrupt image/label: non-normalized or out of bounds coordinates [      1.001]\n",
      "\u001b[34m\u001b[1mval: \u001b[0mWARNING  C:\\Users\\juliwold\\OneDrive - Norwegian University of Life Sciences\\Documents\\projects\\DeepLearning_HomeExercise\\data\\annotated_data\\test\\images\\galbyveien_20230504_sun_15_24.tif: ignoring corrupt image/label: non-normalized or out of bounds coordinates [     1.0086      1.0073]\n",
      "\u001b[34m\u001b[1mval: \u001b[0mWARNING  C:\\Users\\juliwold\\OneDrive - Norwegian University of Life Sciences\\Documents\\projects\\DeepLearning_HomeExercise\\data\\annotated_data\\test\\images\\galbyveien_20230504_sun_16_23.tif: ignoring corrupt image/label: non-normalized or out of bounds coordinates [      1.009]\n",
      "\u001b[34m\u001b[1mval: \u001b[0mWARNING  C:\\Users\\juliwold\\OneDrive - Norwegian University of Life Sciences\\Documents\\projects\\DeepLearning_HomeExercise\\data\\annotated_data\\test\\images\\galbyveien_20230504_sun_16_24.tif: ignoring corrupt image/label: non-normalized or out of bounds coordinates [     1.0133      1.0099]\n",
      "\u001b[34m\u001b[1mval: \u001b[0mWARNING  C:\\Users\\juliwold\\OneDrive - Norwegian University of Life Sciences\\Documents\\projects\\DeepLearning_HomeExercise\\data\\annotated_data\\test\\images\\galbyveien_20230504_sun_17_23.tif: ignoring corrupt image/label: non-normalized or out of bounds coordinates [     1.0134]\n",
      "\u001b[34m\u001b[1mval: \u001b[0mWARNING  C:\\Users\\juliwold\\OneDrive - Norwegian University of Life Sciences\\Documents\\projects\\DeepLearning_HomeExercise\\data\\annotated_data\\test\\images\\galbyveien_20230504_sun_18_22.tif: ignoring corrupt image/label: non-normalized or out of bounds coordinates [       1.02]\n",
      "\u001b[34m\u001b[1mval: \u001b[0mWARNING  C:\\Users\\juliwold\\OneDrive - Norwegian University of Life Sciences\\Documents\\projects\\DeepLearning_HomeExercise\\data\\annotated_data\\test\\images\\galbyveien_20230504_sun_18_24.tif: ignoring corrupt image/label: non-normalized or out of bounds coordinates [     1.0042        1.03]\n",
      "\u001b[34m\u001b[1mval: \u001b[0mWARNING  C:\\Users\\juliwold\\OneDrive - Norwegian University of Life Sciences\\Documents\\projects\\DeepLearning_HomeExercise\\data\\annotated_data\\test\\images\\galbyveien_20230504_sun_19_26.tif: ignoring corrupt image/label: non-normalized or out of bounds coordinates [     1.0248      1.0055]\n",
      "\u001b[34m\u001b[1mval: \u001b[0mWARNING  C:\\Users\\juliwold\\OneDrive - Norwegian University of Life Sciences\\Documents\\projects\\DeepLearning_HomeExercise\\data\\annotated_data\\test\\images\\galbyveien_20230504_sun_20_25.tif: ignoring corrupt image/label: non-normalized or out of bounds coordinates [      1.015]\n",
      "\u001b[34m\u001b[1mval: \u001b[0mWARNING  C:\\Users\\juliwold\\OneDrive - Norwegian University of Life Sciences\\Documents\\projects\\DeepLearning_HomeExercise\\data\\annotated_data\\test\\images\\galbyveien_20230504_sun_20_26.tif: ignoring corrupt image/label: non-normalized or out of bounds coordinates [      1.002      1.0221]\n",
      "\u001b[34m\u001b[1mval: \u001b[0mWARNING  C:\\Users\\juliwold\\OneDrive - Norwegian University of Life Sciences\\Documents\\projects\\DeepLearning_HomeExercise\\data\\annotated_data\\test\\images\\galbyveien_20230504_sun_20_27.tif: ignoring corrupt image/label: non-normalized or out of bounds coordinates [     1.0014]\n",
      "\u001b[34m\u001b[1mval: \u001b[0mWARNING  C:\\Users\\juliwold\\OneDrive - Norwegian University of Life Sciences\\Documents\\projects\\DeepLearning_HomeExercise\\data\\annotated_data\\test\\images\\galbyveien_20230504_sun_21_24.tif: ignoring corrupt image/label: non-normalized or out of bounds coordinates [     1.0153]\n",
      "\u001b[34m\u001b[1mval: \u001b[0mWARNING  C:\\Users\\juliwold\\OneDrive - Norwegian University of Life Sciences\\Documents\\projects\\DeepLearning_HomeExercise\\data\\annotated_data\\test\\images\\galbyveien_20230504_sun_21_26.tif: ignoring corrupt image/label: non-normalized or out of bounds coordinates [     1.0076]\n",
      "\u001b[34m\u001b[1mval: \u001b[0mWARNING  C:\\Users\\juliwold\\OneDrive - Norwegian University of Life Sciences\\Documents\\projects\\DeepLearning_HomeExercise\\data\\annotated_data\\test\\images\\galbyveien_20230504_sun_21_27.tif: ignoring corrupt image/label: non-normalized or out of bounds coordinates [     1.0019]\n",
      "\u001b[34m\u001b[1mval: \u001b[0mWARNING  C:\\Users\\juliwold\\OneDrive - Norwegian University of Life Sciences\\Documents\\projects\\DeepLearning_HomeExercise\\data\\annotated_data\\test\\images\\galbyveien_20230504_sun_22_23.tif: ignoring corrupt image/label: non-normalized or out of bounds coordinates [     1.0013      1.0254]\n",
      "\u001b[34m\u001b[1mval: \u001b[0mWARNING  C:\\Users\\juliwold\\OneDrive - Norwegian University of Life Sciences\\Documents\\projects\\DeepLearning_HomeExercise\\data\\annotated_data\\test\\images\\galbyveien_20230504_sun_22_25.tif: ignoring corrupt image/label: non-normalized or out of bounds coordinates [     1.0131]\n",
      "\u001b[34m\u001b[1mval: \u001b[0mWARNING  C:\\Users\\juliwold\\OneDrive - Norwegian University of Life Sciences\\Documents\\projects\\DeepLearning_HomeExercise\\data\\annotated_data\\test\\images\\galbyveien_20230504_sun_22_26.tif: ignoring corrupt image/label: non-normalized or out of bounds coordinates [     1.0611]\n",
      "\u001b[34m\u001b[1mval: \u001b[0mWARNING  C:\\Users\\juliwold\\OneDrive - Norwegian University of Life Sciences\\Documents\\projects\\DeepLearning_HomeExercise\\data\\annotated_data\\test\\images\\galbyveien_20230504_sun_22_27.tif: ignoring corrupt image/label: non-normalized or out of bounds coordinates [     1.0064]\n",
      "\u001b[34m\u001b[1mval: \u001b[0mWARNING  C:\\Users\\juliwold\\OneDrive - Norwegian University of Life Sciences\\Documents\\projects\\DeepLearning_HomeExercise\\data\\annotated_data\\test\\images\\galbyveien_20230504_sun_23_26.tif: ignoring corrupt image/label: non-normalized or out of bounds coordinates [     1.0031      1.0132]\n",
      "\u001b[34m\u001b[1mval: \u001b[0mWARNING  C:\\Users\\juliwold\\OneDrive - Norwegian University of Life Sciences\\Documents\\projects\\DeepLearning_HomeExercise\\data\\annotated_data\\test\\images\\galbyveien_20230504_sun_24_22.tif: ignoring corrupt image/label: non-normalized or out of bounds coordinates [     1.0044]\n",
      "\u001b[34m\u001b[1mval: \u001b[0mWARNING  C:\\Users\\juliwold\\OneDrive - Norwegian University of Life Sciences\\Documents\\projects\\DeepLearning_HomeExercise\\data\\annotated_data\\test\\images\\galbyveien_20230504_sun_24_23.tif: ignoring corrupt image/label: non-normalized or out of bounds coordinates [     1.0157]\n",
      "\u001b[34m\u001b[1mval: \u001b[0mWARNING  C:\\Users\\juliwold\\OneDrive - Norwegian University of Life Sciences\\Documents\\projects\\DeepLearning_HomeExercise\\data\\annotated_data\\test\\images\\galbyveien_20230504_sun_25_23.tif: ignoring corrupt image/label: non-normalized or out of bounds coordinates [     1.0052]\n",
      "\u001b[34m\u001b[1mval: \u001b[0mWARNING  C:\\Users\\juliwold\\OneDrive - Norwegian University of Life Sciences\\Documents\\projects\\DeepLearning_HomeExercise\\data\\annotated_data\\test\\images\\galbyveien_20230504_sun_25_25.tif: ignoring corrupt image/label: non-normalized or out of bounds coordinates [     1.0014]\n",
      "                 Class     Images  Instances      Box(P          R      mAP50  mAP50-95): 100%|██████████| 13/13 [05:12<00:00, 24.01s/it]\n",
      "                   all        197       2608       0.64      0.456      0.465      0.166\n",
      "Speed: 3.0ms preprocess, 1331.7ms inference, 0.0ms loss, 4.5ms postprocess per image\n",
      "Saving ..\\models\\my_annotations\\my_annotations_yolov8m.pt_640\\test\\val2\\predictions.json...\n",
      "Results saved to \u001b[1m..\\models\\my_annotations\\my_annotations_yolov8m.pt_640\\test\\val2\u001b[0m\n"
     ]
    }
   ],
   "source": [
    "metrics = model.val(data = train_config, split = \"test\", project = project, save_json = True)"
   ]
  }
 ],
 "metadata": {
  "kernelspec": {
   "display_name": "deep_learning",
   "language": "python",
   "name": "python3"
  },
  "language_info": {
   "codemirror_mode": {
    "name": "ipython",
    "version": 3
   },
   "file_extension": ".py",
   "mimetype": "text/x-python",
   "name": "python",
   "nbconvert_exporter": "python",
   "pygments_lexer": "ipython3",
   "version": "3.11.3"
  },
  "orig_nbformat": 4
 },
 "nbformat": 4,
 "nbformat_minor": 2
}
