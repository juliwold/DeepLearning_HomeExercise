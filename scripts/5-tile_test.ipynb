{
 "cells": [
  {
   "cell_type": "code",
   "execution_count": 4,
   "metadata": {},
   "outputs": [],
   "source": [
    "import os\n",
    "import glob\n",
    "\n",
    "from osgeo import gdal, osr\n",
    "import geopandas as gpd"
   ]
  },
  {
   "cell_type": "code",
   "execution_count": 5,
   "metadata": {},
   "outputs": [],
   "source": [
    "gdal.UseExceptions()\n",
    "path_osgeo_utils = \"C:\\\\NMBU\\\\Miniconda3\\\\envs\\\\deep_learning\\\\Lib\\\\site-packages\\\\GDAL-3.7.0-py3.11-win-amd64.egg-info\\\\scripts\""
   ]
  },
  {
   "cell_type": "code",
   "execution_count": 7,
   "metadata": {},
   "outputs": [],
   "source": [
    "def tile_orthomosaic(\n",
    "    input_ortho_path,\n",
    "    output_path,\n",
    "    footprints_path,\n",
    "    tile_size,\n",
    "    buffer_size,\n",
    "):\n",
    "    # read drone acquisition footprints\n",
    "    footprints = gpd.read_file(footprints_path)\n",
    "    # Get ortho name\n",
    "    ortho_name = os.path.splitext(os.path.basename(input_ortho_path))[0]\n",
    "\n",
    "    # create output dir\n",
    "    output_tiles_dir = f\"{output_path}\\\\{tile_size}m_{ortho_name}\"\n",
    "    if not os.path.exists(output_tiles_dir):\n",
    "        print(\"Creating output folder...\"+ output_tiles_dir)\n",
    "        os.makedirs(output_tiles_dir)     \n",
    "\n",
    "  # get raster metadata\n",
    "  # Get pixel resolution (in meters) and tile size in pixels\n",
    "    src_ds = gdal.Open(input_ortho_path) # reads in the orthomosaic\n",
    "    _, xres, _, _, _, yres  = src_ds.GetGeoTransform() # get pixel size in meters\n",
    "    print(f\"Ortho resolution:{round(xres, 4)} m\")\n",
    "    # Get EPSG code\n",
    "    proj = osr.SpatialReference(wkt=src_ds.GetProjection())\n",
    "    EPSG_code= proj.GetAttrValue('AUTHORITY',1)\n",
    "    print(f\"EPSG code: {EPSG_code}\")\n",
    "    # get number of bands\n",
    "    n_bands=src_ds.RasterCount\n",
    "    print(f\"Number of bands: {n_bands}\")\n",
    "\n",
    "    # Compute tile and buffer size in pixels\n",
    "    tile_size_px = round(tile_size / abs(xres)) # calculate the tile size in pixels\n",
    "    buffer_size_px = round(buffer_size / abs(xres)) # calculate the buffer size in pixels\n",
    "    tileIndex_name = \"tile_index\" # define name for output tile index shapefile\n",
    "\n",
    "    # Run gdal_retile.py using (can take some minutes) \n",
    "    command_retile = (\n",
    "        \"python \" +\n",
    "        path_osgeo_utils +\n",
    "        \"/gdal_retile.py -targetDir \" +\n",
    "        output_tiles_dir +\n",
    "        \" \" +\n",
    "        input_ortho_path +\n",
    "        \" -overlap \"\n",
    "        + str(buffer_size_px) +\n",
    "        \" -ps \"\n",
    "        + str(tile_size_px) +\n",
    "        \" \" +\n",
    "        str(tile_size_px) +\n",
    "        \" -of GTiff -tileIndex \" +\n",
    "        tileIndex_name +\n",
    "        \" -tileIndexField ID\"\n",
    "    )\n",
    "    print(os.popen(command_retile).read())\n",
    "    # cleanup tiles\n",
    "    footprint_ortho = footprints[footprints['filename'] == ortho_name]\n",
    "    footprint_ortho_UU = footprint_ortho.geometry.unary_union\n",
    "\n",
    "    # Load tiles shapefile\n",
    "    tiles = gpd.read_file(output_tiles_dir+ \"/\"+ortho_name+\"_tile_index.shp\")\n",
    "    tiles= tiles.to_crs(EPSG_code)\n",
    "\n",
    "    # Select all tiles that are within the boundary polygon\n",
    "    tiles_in = tiles[tiles.geometry.within(footprint_ortho_UU)]\n",
    "\n",
    "    # Select all tiles that are not within the boundary polygon\n",
    "    tiles_out= tiles.loc[~tiles['ID'].isin(tiles_in['ID']) ]\n",
    "    print(str(len(tiles_out))+\" tiles to be deleted\") \n",
    "\n",
    "    # delete tiles that are not within the footprint\n",
    "    gtiffs_delete=[output_tiles_dir+ \"/\"+sub  for sub in tiles_out['ID']] \n",
    "    for f in gtiffs_delete:\n",
    "        if os.path.exists(f):\n",
    "            os.remove(f)"
   ]
  },
  {
   "cell_type": "code",
   "execution_count": 13,
   "metadata": {},
   "outputs": [],
   "source": [
    "test_orthos = glob.glob(\"..\\\\data\\\\orthomosaics\\\\test_data\\\\*.tif\")\n",
    "output_path = \"..\\\\data\\\\tiles\\\\test_data\"\n",
    "footprints_path = \"..\\\\data\\\\map_data\\\\drone_acquisitions.geojson\""
   ]
  },
  {
   "cell_type": "code",
   "execution_count": 14,
   "metadata": {},
   "outputs": [
    {
     "name": "stdout",
     "output_type": "stream",
     "text": [
      "Ortho resolution:0.0085 m\n",
      "EPSG code: 25832\n",
      "Number of bands: 4\n",
      "0...10...20...30...40...50...60...70...80...90...100 - done.\n",
      "\n",
      "1080 tiles to be deleted\n",
      "Creating output folder.....\\data\\tiles\\test_data\\10m_galbyveien_20230504_sun\n",
      "Ortho resolution:0.0108 m\n",
      "EPSG code: 25832\n",
      "Number of bands: 4\n",
      "0...10...20...30...40...50...60...70...80...90...100 - done.\n",
      "\n",
      "820 tiles to be deleted\n",
      "Creating output folder.....\\data\\tiles\\test_data\\10m_krakstad_202304_sun\n",
      "Ortho resolution:0.0077 m\n",
      "EPSG code: 25832\n",
      "Number of bands: 4\n",
      "0...10...20...30...40...50...60...70...80...90...100 - done.\n",
      "\n",
      "333 tiles to be deleted\n",
      "Creating output folder.....\\data\\tiles\\test_data\\10m_ortho_hobol_042222_mavic_sun\n",
      "Ortho resolution:0.0074 m\n",
      "EPSG code: 25832\n",
      "Number of bands: 4\n",
      "0...10...20...30...40...50...60...70...80...90...100 - done.\n",
      "\n",
      "261 tiles to be deleted\n"
     ]
    }
   ],
   "source": [
    "for i in test_orthos:\n",
    "    print(f\"Processing {i}\")\n",
    "    tile_orthomosaic(\n",
    "        input_ortho_path=i,\n",
    "        output_path=output_path,\n",
    "        footprints_path=footprints_path,\n",
    "        tile_size=10,\n",
    "        buffer_size=1,\n",
    "    )"
   ]
  }
 ],
 "metadata": {
  "kernelspec": {
   "display_name": "deep_learning",
   "language": "python",
   "name": "python3"
  },
  "language_info": {
   "codemirror_mode": {
    "name": "ipython",
    "version": 3
   },
   "file_extension": ".py",
   "mimetype": "text/x-python",
   "name": "python",
   "nbconvert_exporter": "python",
   "pygments_lexer": "ipython3",
   "version": "3.11.3"
  },
  "orig_nbformat": 4
 },
 "nbformat": 4,
 "nbformat_minor": 2
}
