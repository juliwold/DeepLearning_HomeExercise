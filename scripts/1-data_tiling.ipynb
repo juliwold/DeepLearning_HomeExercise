{
 "cells": [
  {
   "attachments": {},
   "cell_type": "markdown",
   "metadata": {},
   "source": [
    "## Load packages"
   ]
  },
  {
   "cell_type": "code",
   "execution_count": 2,
   "metadata": {},
   "outputs": [],
   "source": [
    "import os\n",
    "from pathlib import Path\n",
    "from datetime import datetime, timedelta\n",
    "\n",
    "import numpy as np\n",
    "import pandas as pd\n",
    "import matplotlib.pyplot as plt\n",
    "import glob\n",
    "import shutil\n",
    "from osgeo import gdal, ogr, osr\n",
    "import geopandas as gpd\n",
    "from shapely.geometry import Polygon\n",
    "import rasterio as rio"
   ]
  },
  {
   "attachments": {},
   "cell_type": "markdown",
   "metadata": {},
   "source": [
    "## Setup"
   ]
  },
  {
   "cell_type": "code",
   "execution_count": 3,
   "metadata": {},
   "outputs": [],
   "source": [
    "gdal.UseExceptions()\n",
    "path_osgeo_utils= \"C:\\\\NMBU\\\\Miniconda3\\\\envs\\\\deep_learning\\\\Lib\\\\site-packages\\\\GDAL-3.7.0-py3.11-win-amd64.egg-info\\\\scripts\"\n",
    "\n",
    "tile_size_m = 10 # tile size in m\n",
    "buffer_size_m = 0 # tile buffer size_m (used to produce overlapping tiles)\n",
    "\n",
    "path_data = \"..\\\\data\"\n",
    "orthos = os.listdir(path_data + \"\\\\orthomosaics\\\\test_data\")\n",
    "dir_drone_acquisitions = path_data + \"/map_data/drone_acquisitions.geojson\""
   ]
  },
  {
   "cell_type": "code",
   "execution_count": 4,
   "metadata": {},
   "outputs": [],
   "source": [
    "footprints= gpd.read_file(dir_drone_acquisitions)"
   ]
  },
  {
   "attachments": {},
   "cell_type": "markdown",
   "metadata": {},
   "source": [
    "## Retile orthos\n",
    "\n",
    "Loop though orthos and retile."
   ]
  },
  {
   "cell_type": "code",
   "execution_count": 6,
   "metadata": {},
   "outputs": [
    {
     "name": "stdout",
     "output_type": "stream",
     "text": [
      "0...10...20...30...40...50...60...70...80...90...100 - done.\n",
      "\n",
      "903 tiles to be deleted\n",
      "337 tiles remaining\n",
      "0...10...20...30...40...50...60...70...80...90...100 - done.\n",
      "\n",
      "714 tiles to be deleted\n",
      "470 tiles remaining\n",
      "0...10...20...30...40...50...60...70...80...90...100 - done.\n",
      "\n",
      "283 tiles to be deleted\n",
      "177 tiles remaining\n",
      "0...10...20...30...40...50...60...70...80...90...100 - done.\n",
      "\n",
      "194 tiles to be deleted\n",
      "158 tiles remaining\n"
     ]
    }
   ],
   "source": [
    "for o in orthos:\n",
    "    input_ortho_path = f\"{path_data}\\\\orthomosaics\\\\test_data\\\\{o}\"\n",
    "    ortho_name = os.path.splitext(os.path.basename(input_ortho_path))[0]\n",
    "    output_tiles_dir = f\"{path_data}\\\\tiles\\\\{tile_size_m}m_{ortho_name}\"\n",
    "    if not os.path.exists(output_tiles_dir):\n",
    "        os.makedirs(output_tiles_dir)\n",
    "\n",
    "    # Collect metadata\n",
    "    src_ds = gdal.Open(input_ortho_path) # reads in the orthomosaic\n",
    "    _, xres, _, _, _, yres  = src_ds.GetGeoTransform()\n",
    "    proj = osr.SpatialReference(wkt = src_ds.GetProjection())\n",
    "    EPSG_code = proj.GetAttrValue('AUTHORITY',1)\n",
    "    n_bands =src_ds.RasterCount\n",
    "\n",
    "    # Compute size of tile and buffer\n",
    "    tile_size_px = round(tile_size_m / abs(xres)) # calculate the tile size in pixels\n",
    "    buffer_size_px = round(buffer_size_m / abs(xres)) # calculate the buffer size in pixels\n",
    "\n",
    "    # define name for output tile index shapefile\n",
    "    tileIndex_name = ortho_name + \"_tile_index\"\n",
    "\n",
    "    # Run gdal_retile.py using CLI (can take some minutes) \n",
    "    command_retile = \"python \" + path_osgeo_utils + \"/gdal_retile.py -targetDir \" + output_tiles_dir + \" \" + input_ortho_path + \" -overlap \" + str(buffer_size_px) + \" -ps \"+str(tile_size_px) + \" \" + str(tile_size_px) + \" -of GTiff -tileIndex \"+ tileIndex_name + \" -tileIndexField ID\"\n",
    "    print(os.popen(command_retile).read()) \n",
    "\n",
    "    # Select only tiles within footprint\n",
    "    footprint_ortho = footprints[footprints['filename'] == ortho_name]\n",
    "    footprint_ortho_UU = footprint_ortho.geometry.unary_union\n",
    "\n",
    "    # Load tiles shapefile\n",
    "    tiles = gpd.read_file(output_tiles_dir+ \"/\"+ortho_name+\"_tile_index.shp\")\n",
    "    tiles= tiles.to_crs(EPSG_code)\n",
    "\n",
    "    # Select all tiles that are within the boundary polygon\n",
    "    tiles_in = tiles[tiles.geometry.within(footprint_ortho_UU)]\n",
    "\n",
    "    # Select all tiles that are not within the boundary polygon\n",
    "    tiles_out= tiles.loc[~tiles['ID'].isin(tiles_in['ID']) ]\n",
    "    print(str(len(tiles_out))+\" tiles to be deleted\")\n",
    "    print(str(len(tiles_in))+\" tiles remaining\")\n",
    "\n",
    "    # delete tiles that are not within the footprint\n",
    "    gtiffs_delete=[output_tiles_dir + \"/\"+sub  for sub in tiles_out['ID']] \n",
    "    for f in gtiffs_delete:\n",
    "        if os.path.exists(f):\n",
    "            os.remove(f)"
   ]
  }
 ],
 "metadata": {
  "kernelspec": {
   "display_name": "deep_learning",
   "language": "python",
   "name": "python3"
  },
  "language_info": {
   "codemirror_mode": {
    "name": "ipython",
    "version": 3
   },
   "file_extension": ".py",
   "mimetype": "text/x-python",
   "name": "python",
   "nbconvert_exporter": "python",
   "pygments_lexer": "ipython3",
   "version": "3.11.3"
  },
  "orig_nbformat": 4
 },
 "nbformat": 4,
 "nbformat_minor": 2
}
